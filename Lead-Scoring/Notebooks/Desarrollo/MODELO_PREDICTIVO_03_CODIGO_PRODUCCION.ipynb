{
 "cells": [
  {
   "cell_type": "code",
   "execution_count": 141,
   "id": "7c0da572",
   "metadata": {},
   "outputs": [],
   "source": [
    "import numpy as np\n",
    "import pandas as pd\n",
    "import cloudpickle\n",
    "\n",
    "#Automcompletar rápido\n",
    "%config IPCompleter.greedy=True\n",
    "from sklearn.linear_model import LogisticRegression\n",
    "\n",
    "from sklearn.preprocessing import OneHotEncoder\n",
    "from sklearn.preprocessing import MinMaxScaler\n",
    "from sklearn.pipeline import Pipeline\n",
    "from sklearn.preprocessing import FunctionTransformer\n",
    "from sklearn.compose import make_column_transformer\n",
    "from sklearn.pipeline import make_pipeline\n",
    "import warnings\n",
    "warnings.filterwarnings(\"ignore\")"
   ]
  },
  {
   "cell_type": "code",
   "execution_count": 91,
   "id": "570b0f79",
   "metadata": {},
   "outputs": [],
   "source": [
    "ruta_proyecto = 'C:/Users/mcana/OneDrive/Escritorio/PORTAFOLIO/ML/LEAD_SCORINGLEAD_SCORING_PROYECTO'"
   ]
  },
  {
   "cell_type": "code",
   "execution_count": 92,
   "id": "2d2f6c54",
   "metadata": {},
   "outputs": [],
   "source": [
    "nombre_fichero_datos = 'Leads.csv'"
   ]
  },
  {
   "cell_type": "code",
   "execution_count": 93,
   "id": "d6e19efe",
   "metadata": {},
   "outputs": [],
   "source": [
    "#cargar los datos \n",
    "ruta_completa = ruta_proyecto + '/Datos/Originales/' + nombre_fichero_datos\n",
    "df = pd.read_csv(ruta_completa, index_col='id', sep=';')"
   ]
  },
  {
   "cell_type": "code",
   "execution_count": 94,
   "id": "f30613fa",
   "metadata": {},
   "outputs": [
    {
     "data": {
      "text/html": [
       "<div>\n",
       "<style scoped>\n",
       "    .dataframe tbody tr th:only-of-type {\n",
       "        vertical-align: middle;\n",
       "    }\n",
       "\n",
       "    .dataframe tbody tr th {\n",
       "        vertical-align: top;\n",
       "    }\n",
       "\n",
       "    .dataframe thead th {\n",
       "        text-align: right;\n",
       "    }\n",
       "</style>\n",
       "<table border=\"1\" class=\"dataframe\">\n",
       "  <thead>\n",
       "    <tr style=\"text-align: right;\">\n",
       "      <th></th>\n",
       "      <th>origen</th>\n",
       "      <th>fuente</th>\n",
       "      <th>no_enviar_email</th>\n",
       "      <th>no_llamar</th>\n",
       "      <th>compra</th>\n",
       "      <th>visitas_total</th>\n",
       "      <th>tiempo_en_site_total</th>\n",
       "      <th>paginas_vistas_visita</th>\n",
       "      <th>ult_actividad</th>\n",
       "      <th>ambito</th>\n",
       "      <th>ocupacion</th>\n",
       "      <th>conociste_google</th>\n",
       "      <th>conociste_revista</th>\n",
       "      <th>conociste_periodico</th>\n",
       "      <th>conociste_youtube</th>\n",
       "      <th>conociste_facebook</th>\n",
       "      <th>conociste_referencias</th>\n",
       "      <th>score_actividad</th>\n",
       "      <th>score_perfil</th>\n",
       "      <th>descarga_lm</th>\n",
       "    </tr>\n",
       "    <tr>\n",
       "      <th>id</th>\n",
       "      <th></th>\n",
       "      <th></th>\n",
       "      <th></th>\n",
       "      <th></th>\n",
       "      <th></th>\n",
       "      <th></th>\n",
       "      <th></th>\n",
       "      <th></th>\n",
       "      <th></th>\n",
       "      <th></th>\n",
       "      <th></th>\n",
       "      <th></th>\n",
       "      <th></th>\n",
       "      <th></th>\n",
       "      <th></th>\n",
       "      <th></th>\n",
       "      <th></th>\n",
       "      <th></th>\n",
       "      <th></th>\n",
       "      <th></th>\n",
       "    </tr>\n",
       "  </thead>\n",
       "  <tbody>\n",
       "    <tr>\n",
       "      <th>660737</th>\n",
       "      <td>API</td>\n",
       "      <td>Chat</td>\n",
       "      <td>No</td>\n",
       "      <td>No</td>\n",
       "      <td>0</td>\n",
       "      <td>0.0</td>\n",
       "      <td>0</td>\n",
       "      <td>0.00</td>\n",
       "      <td>Page Visited on Website</td>\n",
       "      <td>Select</td>\n",
       "      <td>Unemployed</td>\n",
       "      <td>No</td>\n",
       "      <td>No</td>\n",
       "      <td>No</td>\n",
       "      <td>No</td>\n",
       "      <td>No</td>\n",
       "      <td>No</td>\n",
       "      <td>15.0</td>\n",
       "      <td>15.0</td>\n",
       "      <td>No</td>\n",
       "    </tr>\n",
       "    <tr>\n",
       "      <th>660728</th>\n",
       "      <td>API</td>\n",
       "      <td>Organic Search</td>\n",
       "      <td>No</td>\n",
       "      <td>No</td>\n",
       "      <td>0</td>\n",
       "      <td>5.0</td>\n",
       "      <td>674</td>\n",
       "      <td>2.50</td>\n",
       "      <td>Email Opened</td>\n",
       "      <td>Select</td>\n",
       "      <td>Unemployed</td>\n",
       "      <td>No</td>\n",
       "      <td>No</td>\n",
       "      <td>No</td>\n",
       "      <td>No</td>\n",
       "      <td>No</td>\n",
       "      <td>No</td>\n",
       "      <td>15.0</td>\n",
       "      <td>15.0</td>\n",
       "      <td>No</td>\n",
       "    </tr>\n",
       "    <tr>\n",
       "      <th>660727</th>\n",
       "      <td>Landing Page Submission</td>\n",
       "      <td>Direct Traffic</td>\n",
       "      <td>No</td>\n",
       "      <td>No</td>\n",
       "      <td>1</td>\n",
       "      <td>2.0</td>\n",
       "      <td>1532</td>\n",
       "      <td>2.00</td>\n",
       "      <td>Email Opened</td>\n",
       "      <td>Business Administration</td>\n",
       "      <td>Student</td>\n",
       "      <td>No</td>\n",
       "      <td>No</td>\n",
       "      <td>No</td>\n",
       "      <td>No</td>\n",
       "      <td>No</td>\n",
       "      <td>No</td>\n",
       "      <td>14.0</td>\n",
       "      <td>20.0</td>\n",
       "      <td>Yes</td>\n",
       "    </tr>\n",
       "    <tr>\n",
       "      <th>660719</th>\n",
       "      <td>Landing Page Submission</td>\n",
       "      <td>Direct Traffic</td>\n",
       "      <td>No</td>\n",
       "      <td>No</td>\n",
       "      <td>0</td>\n",
       "      <td>1.0</td>\n",
       "      <td>305</td>\n",
       "      <td>1.00</td>\n",
       "      <td>Unreachable</td>\n",
       "      <td>Media and Advertising</td>\n",
       "      <td>Unemployed</td>\n",
       "      <td>No</td>\n",
       "      <td>No</td>\n",
       "      <td>No</td>\n",
       "      <td>No</td>\n",
       "      <td>No</td>\n",
       "      <td>No</td>\n",
       "      <td>13.0</td>\n",
       "      <td>17.0</td>\n",
       "      <td>No</td>\n",
       "    </tr>\n",
       "    <tr>\n",
       "      <th>660681</th>\n",
       "      <td>Landing Page Submission</td>\n",
       "      <td>Google</td>\n",
       "      <td>No</td>\n",
       "      <td>No</td>\n",
       "      <td>1</td>\n",
       "      <td>2.0</td>\n",
       "      <td>1428</td>\n",
       "      <td>1.00</td>\n",
       "      <td>Converted to Lead</td>\n",
       "      <td>Select</td>\n",
       "      <td>Unemployed</td>\n",
       "      <td>No</td>\n",
       "      <td>No</td>\n",
       "      <td>No</td>\n",
       "      <td>No</td>\n",
       "      <td>No</td>\n",
       "      <td>No</td>\n",
       "      <td>15.0</td>\n",
       "      <td>18.0</td>\n",
       "      <td>No</td>\n",
       "    </tr>\n",
       "    <tr>\n",
       "      <th>...</th>\n",
       "      <td>...</td>\n",
       "      <td>...</td>\n",
       "      <td>...</td>\n",
       "      <td>...</td>\n",
       "      <td>...</td>\n",
       "      <td>...</td>\n",
       "      <td>...</td>\n",
       "      <td>...</td>\n",
       "      <td>...</td>\n",
       "      <td>...</td>\n",
       "      <td>...</td>\n",
       "      <td>...</td>\n",
       "      <td>...</td>\n",
       "      <td>...</td>\n",
       "      <td>...</td>\n",
       "      <td>...</td>\n",
       "      <td>...</td>\n",
       "      <td>...</td>\n",
       "      <td>...</td>\n",
       "      <td>...</td>\n",
       "    </tr>\n",
       "    <tr>\n",
       "      <th>579564</th>\n",
       "      <td>Landing Page Submission</td>\n",
       "      <td>Direct Traffic</td>\n",
       "      <td>Yes</td>\n",
       "      <td>No</td>\n",
       "      <td>1</td>\n",
       "      <td>8.0</td>\n",
       "      <td>1845</td>\n",
       "      <td>2.67</td>\n",
       "      <td>Email Marked Spam</td>\n",
       "      <td>IT Projects Management</td>\n",
       "      <td>Unemployed</td>\n",
       "      <td>No</td>\n",
       "      <td>No</td>\n",
       "      <td>No</td>\n",
       "      <td>No</td>\n",
       "      <td>No</td>\n",
       "      <td>No</td>\n",
       "      <td>15.0</td>\n",
       "      <td>17.0</td>\n",
       "      <td>No</td>\n",
       "    </tr>\n",
       "    <tr>\n",
       "      <th>579546</th>\n",
       "      <td>Landing Page Submission</td>\n",
       "      <td>Direct Traffic</td>\n",
       "      <td>No</td>\n",
       "      <td>No</td>\n",
       "      <td>0</td>\n",
       "      <td>2.0</td>\n",
       "      <td>238</td>\n",
       "      <td>2.00</td>\n",
       "      <td>SMS Sent</td>\n",
       "      <td>Media and Advertising</td>\n",
       "      <td>Unemployed</td>\n",
       "      <td>No</td>\n",
       "      <td>No</td>\n",
       "      <td>No</td>\n",
       "      <td>No</td>\n",
       "      <td>No</td>\n",
       "      <td>No</td>\n",
       "      <td>14.0</td>\n",
       "      <td>19.0</td>\n",
       "      <td>Yes</td>\n",
       "    </tr>\n",
       "    <tr>\n",
       "      <th>579545</th>\n",
       "      <td>Landing Page Submission</td>\n",
       "      <td>Direct Traffic</td>\n",
       "      <td>Yes</td>\n",
       "      <td>No</td>\n",
       "      <td>0</td>\n",
       "      <td>2.0</td>\n",
       "      <td>199</td>\n",
       "      <td>2.00</td>\n",
       "      <td>SMS Sent</td>\n",
       "      <td>Business Administration</td>\n",
       "      <td>Unemployed</td>\n",
       "      <td>No</td>\n",
       "      <td>No</td>\n",
       "      <td>No</td>\n",
       "      <td>No</td>\n",
       "      <td>No</td>\n",
       "      <td>No</td>\n",
       "      <td>13.0</td>\n",
       "      <td>20.0</td>\n",
       "      <td>Yes</td>\n",
       "    </tr>\n",
       "    <tr>\n",
       "      <th>579538</th>\n",
       "      <td>Landing Page Submission</td>\n",
       "      <td>Google</td>\n",
       "      <td>No</td>\n",
       "      <td>No</td>\n",
       "      <td>1</td>\n",
       "      <td>3.0</td>\n",
       "      <td>499</td>\n",
       "      <td>3.00</td>\n",
       "      <td>SMS Sent</td>\n",
       "      <td>Human Resource Management</td>\n",
       "      <td>NaN</td>\n",
       "      <td>No</td>\n",
       "      <td>No</td>\n",
       "      <td>No</td>\n",
       "      <td>No</td>\n",
       "      <td>No</td>\n",
       "      <td>No</td>\n",
       "      <td>15.0</td>\n",
       "      <td>16.0</td>\n",
       "      <td>No</td>\n",
       "    </tr>\n",
       "    <tr>\n",
       "      <th>579533</th>\n",
       "      <td>Landing Page Submission</td>\n",
       "      <td>Direct Traffic</td>\n",
       "      <td>No</td>\n",
       "      <td>No</td>\n",
       "      <td>1</td>\n",
       "      <td>6.0</td>\n",
       "      <td>1279</td>\n",
       "      <td>3.00</td>\n",
       "      <td>SMS Sent</td>\n",
       "      <td>Supply Chain Management</td>\n",
       "      <td>Unemployed</td>\n",
       "      <td>No</td>\n",
       "      <td>No</td>\n",
       "      <td>No</td>\n",
       "      <td>No</td>\n",
       "      <td>No</td>\n",
       "      <td>No</td>\n",
       "      <td>15.0</td>\n",
       "      <td>18.0</td>\n",
       "      <td>Yes</td>\n",
       "    </tr>\n",
       "  </tbody>\n",
       "</table>\n",
       "<p>9093 rows × 20 columns</p>\n",
       "</div>"
      ],
      "text/plain": [
       "                         origen          fuente no_enviar_email no_llamar  \\\n",
       "id                                                                          \n",
       "660737                      API            Chat              No        No   \n",
       "660728                      API  Organic Search              No        No   \n",
       "660727  Landing Page Submission  Direct Traffic              No        No   \n",
       "660719  Landing Page Submission  Direct Traffic              No        No   \n",
       "660681  Landing Page Submission          Google              No        No   \n",
       "...                         ...             ...             ...       ...   \n",
       "579564  Landing Page Submission  Direct Traffic             Yes        No   \n",
       "579546  Landing Page Submission  Direct Traffic              No        No   \n",
       "579545  Landing Page Submission  Direct Traffic             Yes        No   \n",
       "579538  Landing Page Submission          Google              No        No   \n",
       "579533  Landing Page Submission  Direct Traffic              No        No   \n",
       "\n",
       "        compra  visitas_total  tiempo_en_site_total  paginas_vistas_visita  \\\n",
       "id                                                                           \n",
       "660737       0            0.0                     0                   0.00   \n",
       "660728       0            5.0                   674                   2.50   \n",
       "660727       1            2.0                  1532                   2.00   \n",
       "660719       0            1.0                   305                   1.00   \n",
       "660681       1            2.0                  1428                   1.00   \n",
       "...        ...            ...                   ...                    ...   \n",
       "579564       1            8.0                  1845                   2.67   \n",
       "579546       0            2.0                   238                   2.00   \n",
       "579545       0            2.0                   199                   2.00   \n",
       "579538       1            3.0                   499                   3.00   \n",
       "579533       1            6.0                  1279                   3.00   \n",
       "\n",
       "                  ult_actividad                     ambito   ocupacion  \\\n",
       "id                                                                       \n",
       "660737  Page Visited on Website                     Select  Unemployed   \n",
       "660728             Email Opened                     Select  Unemployed   \n",
       "660727             Email Opened    Business Administration     Student   \n",
       "660719              Unreachable      Media and Advertising  Unemployed   \n",
       "660681        Converted to Lead                     Select  Unemployed   \n",
       "...                         ...                        ...         ...   \n",
       "579564        Email Marked Spam     IT Projects Management  Unemployed   \n",
       "579546                 SMS Sent      Media and Advertising  Unemployed   \n",
       "579545                 SMS Sent    Business Administration  Unemployed   \n",
       "579538                 SMS Sent  Human Resource Management         NaN   \n",
       "579533                 SMS Sent    Supply Chain Management  Unemployed   \n",
       "\n",
       "       conociste_google conociste_revista conociste_periodico  \\\n",
       "id                                                              \n",
       "660737               No                No                  No   \n",
       "660728               No                No                  No   \n",
       "660727               No                No                  No   \n",
       "660719               No                No                  No   \n",
       "660681               No                No                  No   \n",
       "...                 ...               ...                 ...   \n",
       "579564               No                No                  No   \n",
       "579546               No                No                  No   \n",
       "579545               No                No                  No   \n",
       "579538               No                No                  No   \n",
       "579533               No                No                  No   \n",
       "\n",
       "       conociste_youtube conociste_facebook conociste_referencias  \\\n",
       "id                                                                  \n",
       "660737                No                 No                    No   \n",
       "660728                No                 No                    No   \n",
       "660727                No                 No                    No   \n",
       "660719                No                 No                    No   \n",
       "660681                No                 No                    No   \n",
       "...                  ...                ...                   ...   \n",
       "579564                No                 No                    No   \n",
       "579546                No                 No                    No   \n",
       "579545                No                 No                    No   \n",
       "579538                No                 No                    No   \n",
       "579533                No                 No                    No   \n",
       "\n",
       "        score_actividad  score_perfil descarga_lm  \n",
       "id                                                 \n",
       "660737             15.0          15.0          No  \n",
       "660728             15.0          15.0          No  \n",
       "660727             14.0          20.0         Yes  \n",
       "660719             13.0          17.0          No  \n",
       "660681             15.0          18.0          No  \n",
       "...                 ...           ...         ...  \n",
       "579564             15.0          17.0          No  \n",
       "579546             14.0          19.0         Yes  \n",
       "579545             13.0          20.0         Yes  \n",
       "579538             15.0          16.0          No  \n",
       "579533             15.0          18.0         Yes  \n",
       "\n",
       "[9093 rows x 20 columns]"
      ]
     },
     "execution_count": 94,
     "metadata": {},
     "output_type": "execute_result"
    }
   ],
   "source": [
    "df"
   ]
  },
  {
   "cell_type": "markdown",
   "id": "7c53839d",
   "metadata": {},
   "source": [
    "#### Seleccionar solo las variables finales \n"
   ]
  },
  {
   "cell_type": "code",
   "execution_count": 95,
   "id": "540708f4",
   "metadata": {},
   "outputs": [
    {
     "data": {
      "text/plain": [
       "['ambito_Select',\n",
       " 'descarga_lm_No',\n",
       " 'fuente_Google',\n",
       " 'ocupacion_Unemployed',\n",
       " 'ocupacion_Working Professional',\n",
       " 'origen_Landing Page Submission',\n",
       " 'paginas_vistas_visita_mms',\n",
       " 'score_actividad_mms',\n",
       " 'score_perfil_mms',\n",
       " 'tiempo_en_site_total_mms',\n",
       " 'ult_actividad_Chat Conversation',\n",
       " 'ult_actividad_Converted to Lead',\n",
       " 'ult_actividad_Page Visited on Website',\n",
       " 'ult_actividad_SMS Sent',\n",
       " 'visitas_total_mms']"
      ]
     },
     "execution_count": 95,
     "metadata": {},
     "output_type": "execute_result"
    }
   ],
   "source": [
    "nombre_variables_finales = ruta_proyecto + '/Resultados/' + 'variables_finales.pickle'\n",
    "\n",
    "pd.read_pickle(nombre_variables_finales).sort_index().index.to_list()"
   ]
  },
  {
   "cell_type": "code",
   "execution_count": 96,
   "id": "e74008d3",
   "metadata": {},
   "outputs": [],
   "source": [
    "#Apuntamos las variables finales\n",
    "variables_finales = ['ambito',\n",
    "                    'descarga_lm',\n",
    "                    'fuente',\n",
    "                    'ocupacion',\n",
    "                    'origen',\n",
    "                    'paginas_vistas_visita',\n",
    "                    'score_actividad',\n",
    "                    'tiempo_en_site_total',\n",
    "                     'ult_actividad',\n",
    "                     'visitas_total',\n",
    "                  ]"
   ]
  },
  {
   "cell_type": "markdown",
   "id": "8eca79d8",
   "metadata": {},
   "source": [
    "# Estructura de los Datasets"
   ]
  },
  {
   "cell_type": "markdown",
   "id": "9a85fdfb",
   "metadata": {},
   "source": [
    "#### Eliminar registros\n"
   ]
  },
  {
   "cell_type": "code",
   "execution_count": 97,
   "id": "e8c5ce3a",
   "metadata": {},
   "outputs": [],
   "source": [
    "#duplicados \n",
    "df.drop_duplicates(inplace=True)"
   ]
  },
  {
   "cell_type": "code",
   "execution_count": 98,
   "id": "26e55927",
   "metadata": {},
   "outputs": [
    {
     "data": {
      "text/plain": [
       "(7521, 20)"
      ]
     },
     "execution_count": 98,
     "metadata": {},
     "output_type": "execute_result"
    }
   ],
   "source": [
    "df.shape"
   ]
  },
  {
   "cell_type": "code",
   "execution_count": 99,
   "id": "2931e06a",
   "metadata": {},
   "outputs": [],
   "source": [
    "#por EDA\n",
    "df = df.loc[(df.no_llamar != 'OTROS') & (df.no_enviar_email != 'YES') & (df.ult_actividad != 'Email Bounced')]"
   ]
  },
  {
   "cell_type": "code",
   "execution_count": 100,
   "id": "49ce36d2",
   "metadata": {},
   "outputs": [
    {
     "data": {
      "text/plain": [
       "(7229, 20)"
      ]
     },
     "execution_count": 100,
     "metadata": {},
     "output_type": "execute_result"
    }
   ],
   "source": [
    "df.shape"
   ]
  },
  {
   "cell_type": "code",
   "execution_count": 101,
   "id": "06ed6028",
   "metadata": {},
   "outputs": [],
   "source": [
    "# separacion\n",
    "x = df[variables_finales]"
   ]
  },
  {
   "cell_type": "code",
   "execution_count": 102,
   "id": "cd24cddb",
   "metadata": {},
   "outputs": [
    {
     "data": {
      "text/plain": [
       "(7229, 10)"
      ]
     },
     "execution_count": 102,
     "metadata": {},
     "output_type": "execute_result"
    }
   ],
   "source": [
    "x.shape"
   ]
  },
  {
   "cell_type": "code",
   "execution_count": 103,
   "id": "63211ea8",
   "metadata": {},
   "outputs": [],
   "source": [
    "#para Y\n",
    "target = 'compra'"
   ]
  },
  {
   "cell_type": "code",
   "execution_count": 104,
   "id": "6d3c71e6",
   "metadata": {},
   "outputs": [
    {
     "data": {
      "text/plain": [
       "'compra'"
      ]
     },
     "execution_count": 104,
     "metadata": {},
     "output_type": "execute_result"
    }
   ],
   "source": [
    "target"
   ]
  },
  {
   "cell_type": "code",
   "execution_count": 105,
   "id": "eca25071",
   "metadata": {},
   "outputs": [],
   "source": [
    "#crear y \n",
    "y = df[target].copy()"
   ]
  },
  {
   "cell_type": "code",
   "execution_count": 108,
   "id": "8f2a6c0f",
   "metadata": {},
   "outputs": [
    {
     "data": {
      "text/plain": [
       "(7229,)"
      ]
     },
     "execution_count": 108,
     "metadata": {},
     "output_type": "execute_result"
    }
   ],
   "source": [
    "y.shape"
   ]
  },
  {
   "cell_type": "markdown",
   "id": "576a8e33",
   "metadata": {},
   "source": [
    "# CREAR EL PIPELINE"
   ]
  },
  {
   "cell_type": "code",
   "execution_count": 109,
   "id": "b7cf0c9e",
   "metadata": {},
   "outputs": [],
   "source": [
    "#TODOS LOS PROCESOS DE CALIDAD DE DATOS "
   ]
  },
  {
   "cell_type": "code",
   "execution_count": 111,
   "id": "ba4b52d3",
   "metadata": {},
   "outputs": [
    {
     "name": "stdout",
     "output_type": "stream",
     "text": [
      "<class 'pandas.core.frame.DataFrame'>\n",
      "Index: 7229 entries, 660737 to 579533\n",
      "Data columns (total 10 columns):\n",
      " #   Column                 Non-Null Count  Dtype  \n",
      "---  ------                 --------------  -----  \n",
      " 0   ambito                 6585 non-null   object \n",
      " 1   descarga_lm            7229 non-null   object \n",
      " 2   fuente                 7209 non-null   object \n",
      " 3   ocupacion              5409 non-null   object \n",
      " 4   origen                 7229 non-null   object \n",
      " 5   paginas_vistas_visita  7119 non-null   float64\n",
      " 6   score_actividad        4068 non-null   float64\n",
      " 7   tiempo_en_site_total   7229 non-null   int64  \n",
      " 8   ult_actividad          7139 non-null   object \n",
      " 9   visitas_total          7119 non-null   float64\n",
      "dtypes: float64(3), int64(1), object(6)\n",
      "memory usage: 621.2+ KB\n"
     ]
    }
   ],
   "source": [
    "df[variables_finales].info()"
   ]
  },
  {
   "cell_type": "code",
   "execution_count": 126,
   "id": "6d4b1537",
   "metadata": {},
   "outputs": [],
   "source": [
    "# CREAR LA FUNCION\n",
    "def calidad_datos(df):\n",
    "    temp = df.astype({'visitas_total': 'Int64'})   \n",
    "    \n",
    "    def imputar_moda(variable):\n",
    "        return(variable.fillna(variable.mode()[0]))\n",
    "    \n",
    "    var_imputar_moda = ['ocupacion','ambito']\n",
    "    \n",
    "    temp[var_imputar_moda] = temp[var_imputar_moda].apply(imputar_moda)\n",
    "    \n",
    "    var_imputar_valor = ['descarga_lm',\n",
    "                        'fuente',\n",
    "                        'origen',\n",
    "                         'ult_actividad',\n",
    "                        ]\n",
    "    valor = 'DESCONOCIDO'\n",
    "    \n",
    "    temp[var_imputar_valor] = temp[var_imputar_valor].fillna(valor)\n",
    "    \n",
    "    var_imputar_mediana = ['paginas_vistas_visita',\n",
    "                          'score_actividad',\n",
    "                          'tiempo_en_site_total',\n",
    "                          'visitas_total']\n",
    "    def imputar_mediana(variable): \n",
    "        if pd.api.types.is_integer_dtype(variable):\n",
    "            return(variable.fillna(int(variable.median())))\n",
    "        else:\n",
    "            return(variable.fillna(variable.median()))\n",
    "    \n",
    "    temp[var_imputar_mediana] = temp[var_imputar_mediana].apply(imputar_mediana)\n",
    "    \n",
    "    \n",
    "    def agrupar_cat_raras(variable, criterio = 0.05):\n",
    "        #calcula las frecuencias \n",
    "        frecuencias = variable.value_counts(normalize=True)\n",
    "        #Identifica las que están por debajo del criterio \n",
    "        temp = [cada for cada in frecuencias.loc[frecuencias < criterio].index.values]\n",
    "        #las recodifica en 'OTROS'\n",
    "        temp2 = np.where(variable.isin(temp), 'OTROS',variable)\n",
    "        #devuelve el resultado \n",
    "        return(temp2)\n",
    "\n",
    "    var_agrupar_cat_raras = ['ocupacion',\n",
    "                            'ambito',\n",
    "                            'descarga_lm',\n",
    "                            'fuente',\n",
    "                            'origen',\n",
    "                            'ult_actividad']\n",
    "    for variable in var_agrupar_cat_raras:\n",
    "        temp[variable] = agrupar_cat_raras(temp[variable], criterio = 0.02)\n",
    "    \n",
    "        temp['visitas_total'].clip(0,50, inplace = True)\n",
    "    \n",
    "    return(temp)"
   ]
  },
  {
   "cell_type": "code",
   "execution_count": 127,
   "id": "014666e7",
   "metadata": {},
   "outputs": [
    {
     "data": {
      "text/html": [
       "<div>\n",
       "<style scoped>\n",
       "    .dataframe tbody tr th:only-of-type {\n",
       "        vertical-align: middle;\n",
       "    }\n",
       "\n",
       "    .dataframe tbody tr th {\n",
       "        vertical-align: top;\n",
       "    }\n",
       "\n",
       "    .dataframe thead th {\n",
       "        text-align: right;\n",
       "    }\n",
       "</style>\n",
       "<table border=\"1\" class=\"dataframe\">\n",
       "  <thead>\n",
       "    <tr style=\"text-align: right;\">\n",
       "      <th></th>\n",
       "      <th>ambito</th>\n",
       "      <th>descarga_lm</th>\n",
       "      <th>fuente</th>\n",
       "      <th>ocupacion</th>\n",
       "      <th>origen</th>\n",
       "      <th>paginas_vistas_visita</th>\n",
       "      <th>score_actividad</th>\n",
       "      <th>tiempo_en_site_total</th>\n",
       "      <th>ult_actividad</th>\n",
       "      <th>visitas_total</th>\n",
       "    </tr>\n",
       "    <tr>\n",
       "      <th>id</th>\n",
       "      <th></th>\n",
       "      <th></th>\n",
       "      <th></th>\n",
       "      <th></th>\n",
       "      <th></th>\n",
       "      <th></th>\n",
       "      <th></th>\n",
       "      <th></th>\n",
       "      <th></th>\n",
       "      <th></th>\n",
       "    </tr>\n",
       "  </thead>\n",
       "  <tbody>\n",
       "    <tr>\n",
       "      <th>660737</th>\n",
       "      <td>Select</td>\n",
       "      <td>No</td>\n",
       "      <td>Chat</td>\n",
       "      <td>Unemployed</td>\n",
       "      <td>API</td>\n",
       "      <td>0.00</td>\n",
       "      <td>15.0</td>\n",
       "      <td>0</td>\n",
       "      <td>Page Visited on Website</td>\n",
       "      <td>0</td>\n",
       "    </tr>\n",
       "    <tr>\n",
       "      <th>660728</th>\n",
       "      <td>Select</td>\n",
       "      <td>No</td>\n",
       "      <td>Organic Search</td>\n",
       "      <td>Unemployed</td>\n",
       "      <td>API</td>\n",
       "      <td>2.50</td>\n",
       "      <td>15.0</td>\n",
       "      <td>674</td>\n",
       "      <td>Email Opened</td>\n",
       "      <td>5</td>\n",
       "    </tr>\n",
       "    <tr>\n",
       "      <th>660727</th>\n",
       "      <td>Business Administration</td>\n",
       "      <td>Yes</td>\n",
       "      <td>Direct Traffic</td>\n",
       "      <td>Student</td>\n",
       "      <td>Landing Page Submission</td>\n",
       "      <td>2.00</td>\n",
       "      <td>14.0</td>\n",
       "      <td>1532</td>\n",
       "      <td>Email Opened</td>\n",
       "      <td>2</td>\n",
       "    </tr>\n",
       "    <tr>\n",
       "      <th>660719</th>\n",
       "      <td>Media and Advertising</td>\n",
       "      <td>No</td>\n",
       "      <td>Direct Traffic</td>\n",
       "      <td>Unemployed</td>\n",
       "      <td>Landing Page Submission</td>\n",
       "      <td>1.00</td>\n",
       "      <td>13.0</td>\n",
       "      <td>305</td>\n",
       "      <td>OTROS</td>\n",
       "      <td>1</td>\n",
       "    </tr>\n",
       "    <tr>\n",
       "      <th>660681</th>\n",
       "      <td>Select</td>\n",
       "      <td>No</td>\n",
       "      <td>Google</td>\n",
       "      <td>Unemployed</td>\n",
       "      <td>Landing Page Submission</td>\n",
       "      <td>1.00</td>\n",
       "      <td>15.0</td>\n",
       "      <td>1428</td>\n",
       "      <td>Converted to Lead</td>\n",
       "      <td>2</td>\n",
       "    </tr>\n",
       "    <tr>\n",
       "      <th>...</th>\n",
       "      <td>...</td>\n",
       "      <td>...</td>\n",
       "      <td>...</td>\n",
       "      <td>...</td>\n",
       "      <td>...</td>\n",
       "      <td>...</td>\n",
       "      <td>...</td>\n",
       "      <td>...</td>\n",
       "      <td>...</td>\n",
       "      <td>...</td>\n",
       "    </tr>\n",
       "    <tr>\n",
       "      <th>579564</th>\n",
       "      <td>IT Projects Management</td>\n",
       "      <td>No</td>\n",
       "      <td>Direct Traffic</td>\n",
       "      <td>Unemployed</td>\n",
       "      <td>Landing Page Submission</td>\n",
       "      <td>2.67</td>\n",
       "      <td>15.0</td>\n",
       "      <td>1845</td>\n",
       "      <td>OTROS</td>\n",
       "      <td>8</td>\n",
       "    </tr>\n",
       "    <tr>\n",
       "      <th>579546</th>\n",
       "      <td>Media and Advertising</td>\n",
       "      <td>Yes</td>\n",
       "      <td>Direct Traffic</td>\n",
       "      <td>Unemployed</td>\n",
       "      <td>Landing Page Submission</td>\n",
       "      <td>2.00</td>\n",
       "      <td>14.0</td>\n",
       "      <td>238</td>\n",
       "      <td>SMS Sent</td>\n",
       "      <td>2</td>\n",
       "    </tr>\n",
       "    <tr>\n",
       "      <th>579545</th>\n",
       "      <td>Business Administration</td>\n",
       "      <td>Yes</td>\n",
       "      <td>Direct Traffic</td>\n",
       "      <td>Unemployed</td>\n",
       "      <td>Landing Page Submission</td>\n",
       "      <td>2.00</td>\n",
       "      <td>13.0</td>\n",
       "      <td>199</td>\n",
       "      <td>SMS Sent</td>\n",
       "      <td>2</td>\n",
       "    </tr>\n",
       "    <tr>\n",
       "      <th>579538</th>\n",
       "      <td>Human Resource Management</td>\n",
       "      <td>No</td>\n",
       "      <td>Google</td>\n",
       "      <td>Unemployed</td>\n",
       "      <td>Landing Page Submission</td>\n",
       "      <td>3.00</td>\n",
       "      <td>15.0</td>\n",
       "      <td>499</td>\n",
       "      <td>SMS Sent</td>\n",
       "      <td>3</td>\n",
       "    </tr>\n",
       "    <tr>\n",
       "      <th>579533</th>\n",
       "      <td>Supply Chain Management</td>\n",
       "      <td>Yes</td>\n",
       "      <td>Direct Traffic</td>\n",
       "      <td>Unemployed</td>\n",
       "      <td>Landing Page Submission</td>\n",
       "      <td>3.00</td>\n",
       "      <td>15.0</td>\n",
       "      <td>1279</td>\n",
       "      <td>SMS Sent</td>\n",
       "      <td>6</td>\n",
       "    </tr>\n",
       "  </tbody>\n",
       "</table>\n",
       "<p>7229 rows × 10 columns</p>\n",
       "</div>"
      ],
      "text/plain": [
       "                           ambito descarga_lm          fuente   ocupacion  \\\n",
       "id                                                                          \n",
       "660737                     Select          No            Chat  Unemployed   \n",
       "660728                     Select          No  Organic Search  Unemployed   \n",
       "660727    Business Administration         Yes  Direct Traffic     Student   \n",
       "660719      Media and Advertising          No  Direct Traffic  Unemployed   \n",
       "660681                     Select          No          Google  Unemployed   \n",
       "...                           ...         ...             ...         ...   \n",
       "579564     IT Projects Management          No  Direct Traffic  Unemployed   \n",
       "579546      Media and Advertising         Yes  Direct Traffic  Unemployed   \n",
       "579545    Business Administration         Yes  Direct Traffic  Unemployed   \n",
       "579538  Human Resource Management          No          Google  Unemployed   \n",
       "579533    Supply Chain Management         Yes  Direct Traffic  Unemployed   \n",
       "\n",
       "                         origen  paginas_vistas_visita  score_actividad  \\\n",
       "id                                                                        \n",
       "660737                      API                   0.00             15.0   \n",
       "660728                      API                   2.50             15.0   \n",
       "660727  Landing Page Submission                   2.00             14.0   \n",
       "660719  Landing Page Submission                   1.00             13.0   \n",
       "660681  Landing Page Submission                   1.00             15.0   \n",
       "...                         ...                    ...              ...   \n",
       "579564  Landing Page Submission                   2.67             15.0   \n",
       "579546  Landing Page Submission                   2.00             14.0   \n",
       "579545  Landing Page Submission                   2.00             13.0   \n",
       "579538  Landing Page Submission                   3.00             15.0   \n",
       "579533  Landing Page Submission                   3.00             15.0   \n",
       "\n",
       "        tiempo_en_site_total            ult_actividad  visitas_total  \n",
       "id                                                                    \n",
       "660737                     0  Page Visited on Website              0  \n",
       "660728                   674             Email Opened              5  \n",
       "660727                  1532             Email Opened              2  \n",
       "660719                   305                    OTROS              1  \n",
       "660681                  1428        Converted to Lead              2  \n",
       "...                      ...                      ...            ...  \n",
       "579564                  1845                    OTROS              8  \n",
       "579546                   238                 SMS Sent              2  \n",
       "579545                   199                 SMS Sent              2  \n",
       "579538                   499                 SMS Sent              3  \n",
       "579533                  1279                 SMS Sent              6  \n",
       "\n",
       "[7229 rows x 10 columns]"
      ]
     },
     "execution_count": 127,
     "metadata": {},
     "output_type": "execute_result"
    }
   ],
   "source": [
    "calidad_datos(x)"
   ]
  },
  {
   "cell_type": "code",
   "execution_count": 128,
   "id": "d3288b20",
   "metadata": {},
   "outputs": [
    {
     "data": {
      "text/plain": [
       "(7229, 10)"
      ]
     },
     "execution_count": 128,
     "metadata": {},
     "output_type": "execute_result"
    }
   ],
   "source": [
    "x.shape"
   ]
  },
  {
   "cell_type": "code",
   "execution_count": 131,
   "id": "692b7be3",
   "metadata": {},
   "outputs": [
    {
     "data": {
      "text/plain": [
       "ambito                   0\n",
       "descarga_lm              0\n",
       "fuente                   0\n",
       "ocupacion                0\n",
       "origen                   0\n",
       "paginas_vistas_visita    0\n",
       "score_actividad          0\n",
       "tiempo_en_site_total     0\n",
       "ult_actividad            0\n",
       "visitas_total            0\n",
       "dtype: int64"
      ]
     },
     "execution_count": 131,
     "metadata": {},
     "output_type": "execute_result"
    }
   ],
   "source": [
    "calidad_datos(x).isna().sum()"
   ]
  },
  {
   "cell_type": "markdown",
   "id": "fbddcd7e",
   "metadata": {},
   "source": [
    "###### convertirla en transformer\n",
    "   "
   ]
  },
  {
   "cell_type": "code",
   "execution_count": 132,
   "id": "b886f873",
   "metadata": {},
   "outputs": [],
   "source": [
    "hacer_calidad_datos = FunctionTransformer(calidad_datos)"
   ]
  },
  {
   "cell_type": "markdown",
   "id": "04659c7f",
   "metadata": {},
   "source": [
    "#### instancia de las transformaciones de Sklearn"
   ]
  },
  {
   "cell_type": "code",
   "execution_count": 133,
   "id": "727df2a9",
   "metadata": {},
   "outputs": [
    {
     "name": "stdout",
     "output_type": "stream",
     "text": [
      "<class 'pandas.core.frame.DataFrame'>\n",
      "Index: 7229 entries, 660737 to 579533\n",
      "Data columns (total 10 columns):\n",
      " #   Column                 Non-Null Count  Dtype  \n",
      "---  ------                 --------------  -----  \n",
      " 0   ambito                 6585 non-null   object \n",
      " 1   descarga_lm            7229 non-null   object \n",
      " 2   fuente                 7209 non-null   object \n",
      " 3   ocupacion              5409 non-null   object \n",
      " 4   origen                 7229 non-null   object \n",
      " 5   paginas_vistas_visita  7119 non-null   float64\n",
      " 6   score_actividad        4068 non-null   float64\n",
      " 7   tiempo_en_site_total   7229 non-null   int64  \n",
      " 8   ult_actividad          7139 non-null   object \n",
      " 9   visitas_total          7119 non-null   float64\n",
      "dtypes: float64(3), int64(1), object(6)\n",
      "memory usage: 621.2+ KB\n"
     ]
    }
   ],
   "source": [
    "df[variables_finales].info()"
   ]
  },
  {
   "cell_type": "code",
   "execution_count": 147,
   "id": "9f1829c4",
   "metadata": {},
   "outputs": [],
   "source": [
    "#OneHotEncoding\n",
    "var_ohe = ['origen', 'fuente','ult_actividad','ambito','ocupacion','descarga_lm']\n",
    "#instanciamos\n",
    "ohe = OneHotEncoder(sparse_output= False, handle_unknown='ignore')\n",
    "\n",
    "#Min-Max\n",
    "var_mms= ['paginas_vistas_visita', 'score_actividad','tiempo_en_site_total','visitas_total']\n",
    "#instanciamos\n",
    "mms = MinMaxScaler()"
   ]
  },
  {
   "cell_type": "markdown",
   "id": "37fd6431",
   "metadata": {},
   "source": [
    "#### Crear el Pipeline"
   ]
  },
  {
   "cell_type": "markdown",
   "id": "3f74c1c6",
   "metadata": {},
   "source": [
    "###### crear el column transformer\n",
    "\n",
    "    "
   ]
  },
  {
   "cell_type": "code",
   "execution_count": 148,
   "id": "c39aa985",
   "metadata": {},
   "outputs": [],
   "source": [
    "ct = make_column_transformer(\n",
    "    (ohe, var_ohe),\n",
    "    (mms, var_mms),\n",
    "    remainder='drop')"
   ]
  },
  {
   "cell_type": "markdown",
   "id": "01f287eb",
   "metadata": {},
   "source": [
    "###### crear el pipeline del preprocesamiento\n"
   ]
  },
  {
   "cell_type": "code",
   "execution_count": 149,
   "id": "5c4855a6",
   "metadata": {},
   "outputs": [],
   "source": [
    "pipe_prepro = make_pipeline(hacer_calidad_datos,\n",
    "                            ct)"
   ]
  },
  {
   "cell_type": "markdown",
   "id": "189d72db",
   "metadata": {},
   "source": [
    "### Instanciamos el modelo"
   ]
  },
  {
   "cell_type": "markdown",
   "id": "98741025",
   "metadata": {},
   "source": [
    "#### Instanciamos el algoritmo"
   ]
  },
  {
   "cell_type": "code",
   "execution_count": 150,
   "id": "96020d81",
   "metadata": {},
   "outputs": [],
   "source": [
    "modelo = LogisticRegression(n_jobs = -1,\n",
    "            solver= 'saga',\n",
    "            penalty = 'l1',\n",
    "            C = 1\n",
    "            ) \n",
    "        \n",
    "                    "
   ]
  },
  {
   "cell_type": "markdown",
   "id": "ae86d23f",
   "metadata": {},
   "source": [
    "##### crear el pipe final de entrenamiento\n"
   ]
  },
  {
   "cell_type": "code",
   "execution_count": 151,
   "id": "68e586ec",
   "metadata": {},
   "outputs": [],
   "source": [
    "pipe_entrenamiento = make_pipeline(pipe_prepro,modelo)"
   ]
  },
  {
   "cell_type": "markdown",
   "id": "a0274d9a",
   "metadata": {},
   "source": [
    "###### guardar el pipe final de entrenamiento"
   ]
  },
  {
   "cell_type": "code",
   "execution_count": 159,
   "id": "01be314c",
   "metadata": {},
   "outputs": [],
   "source": [
    "nombre_pipe_entrenamiento = 'pipe_entrenamiento.pickle'\n",
    "\n",
    "ruta_pipe_entrenamiento = ruta_proyecto + '/Modelos/' + nombre_pipe_entrenamiento\n",
    "\n",
    "with open(ruta_pipe_entrenamiento, mode='wb') as file:\n",
    "   cloudpickle.dump(pipe_entrenamiento, file)"
   ]
  },
  {
   "cell_type": "markdown",
   "id": "e2926d63",
   "metadata": {},
   "source": [
    "##### entrenar el pipe"
   ]
  },
  {
   "cell_type": "code",
   "execution_count": 160,
   "id": "ab8d241a",
   "metadata": {},
   "outputs": [],
   "source": [
    "nombre_pipe_ejecucion = pipe_entrenamiento.fit(x,y)"
   ]
  },
  {
   "cell_type": "markdown",
   "id": "c6c2cc1c",
   "metadata": {},
   "source": [
    "# GUARDAR EL PIPE"
   ]
  },
  {
   "cell_type": "markdown",
   "id": "924d7011",
   "metadata": {},
   "source": [
    "##### nombre del pipe final de ejecución "
   ]
  },
  {
   "cell_type": "code",
   "execution_count": 161,
   "id": "788689d9",
   "metadata": {},
   "outputs": [],
   "source": [
    "nombre_pipe_ejecucion = 'pipe_ejecucion.pickle'"
   ]
  },
  {
   "cell_type": "markdown",
   "id": "f5c24966",
   "metadata": {},
   "source": [
    "#### GUARDAR EL PIPE FINAL DE EJECUCION\n"
   ]
  },
  {
   "cell_type": "code",
   "execution_count": 162,
   "id": "548c6760",
   "metadata": {},
   "outputs": [],
   "source": [
    "ruta_pipe_ejecucion = ruta_proyecto + '/Modelos/' + nombre_pipe_ejecucion\n",
    "\n",
    "with open(ruta_pipe_ejecucion, mode='wb') as file:\n",
    "   cloudpickle.dump(pipe_ejecucion, file)"
   ]
  },
  {
   "cell_type": "code",
   "execution_count": null,
   "id": "3f430f85",
   "metadata": {},
   "outputs": [],
   "source": []
  }
 ],
 "metadata": {
  "kernelspec": {
   "display_name": "Python 3 (ipykernel)",
   "language": "python",
   "name": "python3"
  },
  "language_info": {
   "codemirror_mode": {
    "name": "ipython",
    "version": 3
   },
   "file_extension": ".py",
   "mimetype": "text/x-python",
   "name": "python",
   "nbconvert_exporter": "python",
   "pygments_lexer": "ipython3",
   "version": "3.12.3"
  }
 },
 "nbformat": 4,
 "nbformat_minor": 5
}
