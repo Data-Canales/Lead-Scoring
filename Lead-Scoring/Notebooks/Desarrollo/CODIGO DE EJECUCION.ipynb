{
 "cells": [
  {
   "cell_type": "code",
   "execution_count": 7,
   "id": "2f940914",
   "metadata": {},
   "outputs": [],
   "source": [
    "import cloudpickle\n",
    "import pandas as pd\n",
    "from janitor import clean_names\n",
    "import warnings\n",
    "warnings.filterwarnings(\"ignore\")\n",
    "ruta_proyecto = 'C:/Users/mcana/OneDrive/Escritorio/PORTAFOLIO/ML/LEAD_SCORINGLEAD_SCORING_PROYECTO'\n",
    "\n",
    "nombre_fichero_datos = 'validacion.csv'\n",
    "\n",
    "ruta_completa = ruta_proyecto + '/Datos/Validacion/' + nombre_fichero_datos\n",
    "\n",
    "df = pd.read_csv(ruta_completa,index_col='id')\n",
    "\n",
    "df = df.drop_duplicates()\n",
    "df = df.loc[(df.no_llamar != 'OTROS') & (df.no_enviar_email != 'YES') & (df.ult_actividad != 'Email Bounced')]\n",
    "                     \n",
    "variables_finales = ['ambito',\n",
    "                    'descarga_lm',\n",
    "                    'fuente',\n",
    "                    'ocupacion',\n",
    "                    'origen',\n",
    "                    'paginas_vistas_visita',\n",
    "                    'score_actividad',\n",
    "                    'tiempo_en_site_total',\n",
    "                     'ult_actividad',\n",
    "                     'visitas_total',\n",
    "                  ]\n",
    "df = df[variables_finales]\n",
    "\n",
    "nombre_pipe_ejecucion = 'pipe_ejecucion.pickle'\n",
    "\n",
    "ruta_pipe_ejecucion = ruta_proyecto + '/Modelos/' + nombre_pipe_ejecucion\n",
    "\n",
    "with open(ruta_pipe_ejecucion, mode='rb') as file:\n",
    "   pipe_ejecucion = cloudpickle.load(file)\n",
    "\n",
    "scoring = pipe_ejecucion.predict_proba(df)[:, 1]"
   ]
  },
  {
   "cell_type": "code",
   "execution_count": null,
   "id": "ac25b06a",
   "metadata": {},
   "outputs": [],
   "source": []
  }
 ],
 "metadata": {
  "kernelspec": {
   "display_name": "Python 3 (ipykernel)",
   "language": "python",
   "name": "python3"
  },
  "language_info": {
   "codemirror_mode": {
    "name": "ipython",
    "version": 3
   },
   "file_extension": ".py",
   "mimetype": "text/x-python",
   "name": "python",
   "nbconvert_exporter": "python",
   "pygments_lexer": "ipython3",
   "version": "3.12.3"
  }
 },
 "nbformat": 4,
 "nbformat_minor": 5
}
